{
 "cells": [
  {
   "cell_type": "code",
   "execution_count": 1,
   "metadata": {
    "collapsed": false
   },
   "outputs": [],
   "source": [
    "import codecs\n",
    "import collections\n",
    "import gzip\n",
    "import itertools\n",
    "import json\n",
    "import re\n",
    "from operator import itemgetter\n",
    "\n",
    "import nltk.stem, nltk.corpus\n",
    "import wget\n",
    "from gensim import corpora, models, similarities"
   ]
  },
  {
   "cell_type": "markdown",
   "metadata": {},
   "source": [
    "# Generate documents"
   ]
  },
  {
   "cell_type": "code",
   "execution_count": 3,
   "metadata": {
    "collapsed": false
   },
   "outputs": [],
   "source": [
    "try:\n",
    "    fname = 'AllCards.json.gz'\n",
    "    cards = json.load(gzip.open(fname, 'rt'))\n",
    "except FileNotFoundError:\n",
    "    url = 'https://mtgjson.com/json/AllCards.json.gz'\n",
    "    fname = wget.download(url)\n",
    "    cards = json.load(gzip.open(fname, 'rt'))"
   ]
  },
  {
   "cell_type": "code",
   "execution_count": 4,
   "metadata": {
    "collapsed": false
   },
   "outputs": [
    {
     "data": {
      "text/plain": [
       "{'cmc': 1,\n",
       " 'colorIdentity': ['G'],\n",
       " 'colors': ['Green'],\n",
       " 'imageName': 'mossdog',\n",
       " 'layout': 'normal',\n",
       " 'manaCost': '{G}',\n",
       " 'name': 'Mossdog',\n",
       " 'power': '1',\n",
       " 'subtypes': ['Plant', 'Hound'],\n",
       " 'text': 'Whenever Mossdog becomes the target of a spell or ability an opponent controls, put a +1/+1 counter on Mossdog.',\n",
       " 'toughness': '1',\n",
       " 'type': 'Creature — Plant Hound',\n",
       " 'types': ['Creature']}"
      ]
     },
     "execution_count": 4,
     "metadata": {},
     "output_type": "execute_result"
    }
   ],
   "source": [
    "cards['Mossdog']"
   ]
  },
  {
   "cell_type": "code",
   "execution_count": 5,
   "metadata": {
    "collapsed": false
   },
   "outputs": [],
   "source": [
    "card_names = list(cards.keys())\n",
    "with open('card_names.txt', 'w') as f:\n",
    "    f.writelines(t + '\\n' for t in card_names)"
   ]
  },
  {
   "cell_type": "code",
   "execution_count": 6,
   "metadata": {
    "collapsed": false
   },
   "outputs": [
    {
     "name": "stdout",
     "output_type": "stream",
     "text": [
      "[nltk_data] Downloading package stopwords to\n",
      "[nltk_data]     /home/claydavi/nltk_data...\n",
      "[nltk_data]   Unzipping corpora/stopwords.zip.\n"
     ]
    }
   ],
   "source": [
    "nltk.download('stopwords')\n",
    "stopwords = set(nltk.corpus.stopwords.words('english'))"
   ]
  },
  {
   "cell_type": "code",
   "execution_count": 7,
   "metadata": {
    "collapsed": true
   },
   "outputs": [],
   "source": [
    "stemmer = nltk.stem.snowball.SnowballStemmer('english')"
   ]
  },
  {
   "cell_type": "code",
   "execution_count": 8,
   "metadata": {
    "collapsed": false
   },
   "outputs": [],
   "source": [
    "def tokenize(card):\n",
    "    text = ' '.join([card.get('text', '')]\n",
    "                   # + card.get('types', [])\n",
    "                   + card.get('subtypes', [])\n",
    "                    )\n",
    "    text = text.lower()\n",
    "    ## Replace card name with ~\n",
    "    text = text.replace(card['name'].lower(), '~')\n",
    "    ## remove reminder text (in parentheses)\n",
    "    text = re.sub(r'\\([^)]+\\)', '', text)\n",
    "    ## remove costs\n",
    "    text = re.sub(r'\\{[^}]+\\}', '', text)\n",
    "    ## genericize all p/t (de)buffs\n",
    "    text = re.sub(r'([+-])[\\dX*]/([+-])[\\dX*]', r'\\1X/\\2X', text)\n",
    "    ## genericize numbers\n",
    "    text = re.sub(r'\\d+', 'N', text)\n",
    "    ## split on punctuation and spaces\n",
    "    tokens = re.split(r'[\\s.,;:—()]+', text)\n",
    "    # use only unique tokens?\n",
    "    # tokens = set(tokens)\n",
    "    # stem tokens\n",
    "    tokens = (stemmer.stem(t) for t in tokens if t and t not in stopwords)\n",
    "\n",
    "    ## The following allows us to singularize certain terms.\n",
    "    ## For example, the word 'equip' is way over-represented on equipment\n",
    "    counter = collections.Counter(tokens)\n",
    "    if counter['equip']:\n",
    "        counter['equip'] = 1\n",
    "    \n",
    "    tokens = itertools.chain.from_iterable([token] * count for token, count in counter.items())\n",
    "        \n",
    "    return list(tokens)\n",
    "\n",
    "documents = [tokenize(c) for c in cards.values()]\n",
    "# next(documents)"
   ]
  },
  {
   "cell_type": "code",
   "execution_count": 9,
   "metadata": {
    "collapsed": false
   },
   "outputs": [],
   "source": [
    "dictionary = corpora.Dictionary(documents)\n",
    "dictionary.save('dictionary.dict')"
   ]
  },
  {
   "cell_type": "code",
   "execution_count": 10,
   "metadata": {
    "collapsed": false
   },
   "outputs": [
    {
     "name": "stdout",
     "output_type": "stream",
     "text": [
      "1661\n"
     ]
    }
   ],
   "source": [
    "print(len(dictionary))"
   ]
  },
  {
   "cell_type": "code",
   "execution_count": 11,
   "metadata": {
    "collapsed": false
   },
   "outputs": [],
   "source": [
    "corpus = [dictionary.doc2bow(doc) for doc in documents]\n",
    "corpora.MmCorpus.serialize('card_text_corpus.mm', corpus)"
   ]
  },
  {
   "cell_type": "markdown",
   "metadata": {},
   "source": [
    "# Model - LSI"
   ]
  },
  {
   "cell_type": "code",
   "execution_count": 12,
   "metadata": {
    "collapsed": true
   },
   "outputs": [],
   "source": [
    "tfidf = models.TfidfModel(corpus)\n",
    "corpus_tfidf = tfidf[corpus]"
   ]
  },
  {
   "cell_type": "code",
   "execution_count": 13,
   "metadata": {
    "collapsed": false
   },
   "outputs": [],
   "source": [
    "lsi = models.LsiModel(corpus, id2word=dictionary, num_topics=100)\n",
    "corpus_lsi = lsi[corpus_tfidf]"
   ]
  },
  {
   "cell_type": "code",
   "execution_count": 14,
   "metadata": {
    "collapsed": false
   },
   "outputs": [
    {
     "data": {
      "text/plain": [
       "[(0,\n",
       "  '0.555*\"creatur\" + 0.438*\"~\" + 0.250*\"target\" + 0.231*\"card\" + 0.198*\"control\" + 0.174*\"turn\" + 0.156*\"battlefield\" + 0.152*\"player\" + 0.136*\"damag\" + 0.130*\"n\"'),\n",
       " (1,\n",
       "  '0.559*\"card\" + -0.517*\"creatur\" + 0.240*\"librari\" + 0.232*\"~\" + 0.174*\"put\" + -0.156*\"enchant\" + 0.152*\"player\" + 0.142*\"battlefield\" + 0.139*\"hand\" + -0.129*\"turn\"'),\n",
       " (2,\n",
       "  '0.632*\"~\" + -0.458*\"card\" + -0.349*\"creatur\" + -0.200*\"librari\" + 0.195*\"counter\" + 0.148*\"enter\" + -0.136*\"enchant\" + 0.120*\"battlefield\" + -0.098*\"reveal\" + 0.096*\"damag\"'),\n",
       " (3,\n",
       "  '-0.426*\"player\" + -0.421*\"damag\" + -0.348*\"n\" + -0.330*\"deal\" + -0.278*\"target\" + 0.236*\"+x/+x\" + 0.225*\"battlefield\" + 0.186*\"get\" + 0.159*\"end\" + 0.149*\"enter\"'),\n",
       " (4,\n",
       "  '-0.575*\"turn\" + -0.442*\"end\" + 0.277*\"creatur\" + 0.269*\"enchant\" + -0.243*\"target\" + -0.238*\"get\" + 0.198*\"battlefield\" + -0.175*\"gain\" + -0.149*\"+x/+x\" + 0.132*\"enter\"')]"
      ]
     },
     "execution_count": 14,
     "metadata": {},
     "output_type": "execute_result"
    }
   ],
   "source": [
    "lsi.print_topics()[:5]"
   ]
  },
  {
   "cell_type": "code",
   "execution_count": 15,
   "metadata": {
    "collapsed": false
   },
   "outputs": [
    {
     "data": {
      "text/plain": [
       "'Each player discards his or her hand, then draws cards equal to the greatest number of cards a player discarded this way.'"
      ]
     },
     "execution_count": 15,
     "metadata": {},
     "output_type": "execute_result"
    }
   ],
   "source": [
    "card = cards['Windfall']\n",
    "card['text']"
   ]
  },
  {
   "cell_type": "code",
   "execution_count": 16,
   "metadata": {
    "collapsed": false
   },
   "outputs": [
    {
     "data": {
      "text/plain": [
       "[(0, 1.0178801543798091),\n",
       " (1, 1.815634316389064),\n",
       " (2, -1.2813018304561745),\n",
       " (3, -0.79626354443940306),\n",
       " (4, -0.32558171210953024)]"
      ]
     },
     "execution_count": 16,
     "metadata": {},
     "output_type": "execute_result"
    }
   ],
   "source": [
    "vec_bow = dictionary.doc2bow(tokenize(card))\n",
    "vec_lsi = lsi[vec_bow]\n",
    "vec_lsi[:5]"
   ]
  },
  {
   "cell_type": "markdown",
   "metadata": {},
   "source": [
    "# Create index"
   ]
  },
  {
   "cell_type": "code",
   "execution_count": 17,
   "metadata": {
    "collapsed": true
   },
   "outputs": [],
   "source": [
    "index = similarities.MatrixSimilarity(corpus_lsi)\n",
    "index.save('all_cards_lsi.index')"
   ]
  },
  {
   "cell_type": "code",
   "execution_count": 18,
   "metadata": {
    "collapsed": true
   },
   "outputs": [],
   "source": [
    "def similarity(card):\n",
    "    vec_bow = dictionary.doc2bow(tokenize(card))\n",
    "    vec_lsi = lsi[tfidf[vec_bow]]\n",
    "    scores = index[vec_lsi]\n",
    "    return sorted(enumerate(scores),\n",
    "            key=itemgetter(1), reverse=True)"
   ]
  },
  {
   "cell_type": "code",
   "execution_count": 19,
   "metadata": {
    "collapsed": false
   },
   "outputs": [
    {
     "data": {
      "text/plain": [
       "[(2397, 1.0),\n",
       " (13742, 0.99997938),\n",
       " (688, 0.94405633),\n",
       " (13934, 0.85117394),\n",
       " (9855, 0.85089725),\n",
       " (6873, 0.83937097),\n",
       " (4267, 0.83885503),\n",
       " (5414, 0.81919342),\n",
       " (15507, 0.80748463),\n",
       " (8377, 0.79543173)]"
      ]
     },
     "execution_count": 19,
     "metadata": {},
     "output_type": "execute_result"
    }
   ],
   "source": [
    "similarity(card)[:10]"
   ]
  },
  {
   "cell_type": "code",
   "execution_count": 38,
   "metadata": {
    "collapsed": false
   },
   "outputs": [],
   "source": [
    "def get_similar_cards(card_name, N=10):\n",
    "    card = cards[card_name]\n",
    "    similarity_scores = similarity(card)\n",
    "    similar_cards = []\n",
    "    for name_idx, score in similarity_scores:\n",
    "        this_card_name = card_names[name_idx]\n",
    "        if this_card_name != card_name:\n",
    "            this_card = cards[this_card_name]\n",
    "            similar_cards.append((score,\n",
    "                    ' '.join([this_card['name'], this_card.get('manaCost', '')]),\n",
    "                    this_card['text'],\n",
    "                    ))\n",
    "        if len(similar_cards) >= N:\n",
    "            break\n",
    "    return similar_cards\n",
    "        "
   ]
  },
  {
   "cell_type": "markdown",
   "metadata": {},
   "source": [
    "# Query similar cards"
   ]
  },
  {
   "cell_type": "code",
   "execution_count": 39,
   "metadata": {
    "collapsed": false
   },
   "outputs": [
    {
     "data": {
      "text/plain": [
       "[(0.87844652,\n",
       "  'Inner Fire {3}{R}',\n",
       "  'Add {R} to your mana pool for each card in your hand.'),\n",
       " (0.84163749,\n",
       "  'Reliquary Tower ',\n",
       "  'You have no maximum hand size.\\n{T}: Add {C} to your mana pool.'),\n",
       " (0.84163749,\n",
       "  'Thought Vessel {2}',\n",
       "  'You have no maximum hand size.\\n{T}: Add {C} to your mana pool.'),\n",
       " (0.83419704,\n",
       "  'Simian Spirit Guide {2}{R}',\n",
       "  'Exile Simian Spirit Guide from your hand: Add {R} to your mana pool.'),\n",
       " (0.80424207,\n",
       "  'Chrome Mox {0}',\n",
       "  \"Imprint — When Chrome Mox enters the battlefield, you may exile a nonartifact, nonland card from your hand.\\n{T}: Add one mana of any of the exiled card's colors to your mana pool.\"),\n",
       " (0.76806962,\n",
       "  'Serum Powder {3}',\n",
       "  '{T}: Add {C} to your mana pool.\\nAny time you could mulligan and Serum Powder is in your hand, you may exile all the cards from your hand, then draw that many cards. (You can do this in addition to taking mulligans.)'),\n",
       " (0.76363921,\n",
       "  'Magnifying Glass {3}',\n",
       "  '{T}: Add {C} to your mana pool.\\n{4}, {T}: Investigate. (Create a colorless Clue artifact token with \"{2}, Sacrifice this artifact: Draw a card.\")'),\n",
       " (0.76210976,\n",
       "  'Tree of Tales ',\n",
       "  \"(Tree of Tales isn't a spell.)\\n{T}: Add {G} to your mana pool.\"),\n",
       " (0.76210976, 'Mox Jet {0}', '{T}: Add {B} to your mana pool.'),\n",
       " (0.76210976,\n",
       "  'Cascade Bluffs ',\n",
       "  '{T}: Add {C} to your mana pool.\\n{U/R}, {T}: Add {U}{U}, {U}{R}, or {R}{R} to your mana pool.')]"
      ]
     },
     "execution_count": 39,
     "metadata": {},
     "output_type": "execute_result"
    }
   ],
   "source": [
    "get_similar_cards('Cadaverous Bloom')"
   ]
  },
  {
   "cell_type": "code",
   "execution_count": 38,
   "metadata": {
    "collapsed": false
   },
   "outputs": [
    {
     "data": {
      "text/plain": [
       "'Living weapon (When this Equipment enters the battlefield, create a 0/0 black Germ creature token, then attach this to it.)\\nEquipped creature gets +X/+X, where X is the number of creature cards in all graveyards.\\nEquip {2}'"
      ]
     },
     "execution_count": 38,
     "metadata": {},
     "output_type": "execute_result"
    }
   ],
   "source": [
    "cards['Bonehoard']['text']"
   ]
  },
  {
   "cell_type": "code",
   "execution_count": 39,
   "metadata": {
    "collapsed": false
   },
   "outputs": [
    {
     "data": {
      "text/plain": [
       "['graveyard',\n",
       " 'live',\n",
       " 'get',\n",
       " 'number',\n",
       " 'weapon',\n",
       " 'card',\n",
       " 'creatur',\n",
       " 'creatur',\n",
       " 'equip',\n",
       " '+x/+x',\n",
       " 'x']"
      ]
     },
     "execution_count": 39,
     "metadata": {},
     "output_type": "execute_result"
    }
   ],
   "source": [
    "tokenize(cards['Bonehoard'])"
   ]
  },
  {
   "cell_type": "markdown",
   "metadata": {},
   "source": [
    "# Model - LDA"
   ]
  },
  {
   "cell_type": "code",
   "execution_count": 187,
   "metadata": {
    "collapsed": true
   },
   "outputs": [],
   "source": [
    "lda = models.LdaMulticore(corpus, id2word=dictionary, num_topics=100)\n",
    "corpus_lda = lda[corpus]"
   ]
  },
  {
   "cell_type": "code",
   "execution_count": 188,
   "metadata": {
    "collapsed": false
   },
   "outputs": [],
   "source": [
    "index = similarities.MatrixSimilarity(corpus_lda)\n",
    "index.save('all_cards_lda.index')"
   ]
  },
  {
   "cell_type": "code",
   "execution_count": 189,
   "metadata": {
    "collapsed": true
   },
   "outputs": [],
   "source": [
    "def similarity_lda(card):\n",
    "    vec_bow = dictionary.doc2bow(tokenize(card))\n",
    "    vec_lda = lda[vec_bow]\n",
    "    scores = index[vec_lda]\n",
    "    return sorted(enumerate(scores),\n",
    "            key=itemgetter(1), reverse=True)"
   ]
  },
  {
   "cell_type": "code",
   "execution_count": 25,
   "metadata": {
    "collapsed": true
   },
   "outputs": [],
   "source": [
    "def get_similar_cards_lda(card_name, N=10):\n",
    "    card = cards[card_name]\n",
    "    similarity_scores = similarity_lda(card)\n",
    "    similar_cards = []\n",
    "    for name_idx, score in similarity_scores:\n",
    "        this_card_name = card_names[name_idx]\n",
    "        if this_card_name != card_name:\n",
    "            this_card = cards[this_card_name]\n",
    "            similar_cards.append((score, this_card['name'], this_card.get('text', '')))\n",
    "        if len(similar_cards) >= N:\n",
    "            break\n",
    "    return similar_cards"
   ]
  },
  {
   "cell_type": "code",
   "execution_count": 26,
   "metadata": {
    "collapsed": false
   },
   "outputs": [
    {
     "ename": "NameError",
     "evalue": "name 'similarity_lda' is not defined",
     "output_type": "error",
     "traceback": [
      "\u001b[0;31m---------------------------------------------------------------------------\u001b[0m",
      "\u001b[0;31mNameError\u001b[0m                                 Traceback (most recent call last)",
      "\u001b[0;32m<ipython-input-26-4a8107ac7ad3>\u001b[0m in \u001b[0;36m<module>\u001b[0;34m()\u001b[0m\n\u001b[0;32m----> 1\u001b[0;31m \u001b[0mget_similar_cards_lda\u001b[0m\u001b[0;34m(\u001b[0m\u001b[0;34m'Fatal Push'\u001b[0m\u001b[0;34m)\u001b[0m\u001b[0;34m\u001b[0m\u001b[0m\n\u001b[0m",
      "\u001b[0;32m<ipython-input-25-f214885c1ab6>\u001b[0m in \u001b[0;36mget_similar_cards_lda\u001b[0;34m(card_name, N)\u001b[0m\n\u001b[1;32m      1\u001b[0m \u001b[0;32mdef\u001b[0m \u001b[0mget_similar_cards_lda\u001b[0m\u001b[0;34m(\u001b[0m\u001b[0mcard_name\u001b[0m\u001b[0;34m,\u001b[0m \u001b[0mN\u001b[0m\u001b[0;34m=\u001b[0m\u001b[0;36m10\u001b[0m\u001b[0;34m)\u001b[0m\u001b[0;34m:\u001b[0m\u001b[0;34m\u001b[0m\u001b[0m\n\u001b[1;32m      2\u001b[0m     \u001b[0mcard\u001b[0m \u001b[0;34m=\u001b[0m \u001b[0mcards\u001b[0m\u001b[0;34m[\u001b[0m\u001b[0mcard_name\u001b[0m\u001b[0;34m]\u001b[0m\u001b[0;34m\u001b[0m\u001b[0m\n\u001b[0;32m----> 3\u001b[0;31m     \u001b[0msimilarity_scores\u001b[0m \u001b[0;34m=\u001b[0m \u001b[0msimilarity_lda\u001b[0m\u001b[0;34m(\u001b[0m\u001b[0mcard\u001b[0m\u001b[0;34m)\u001b[0m\u001b[0;34m\u001b[0m\u001b[0m\n\u001b[0m\u001b[1;32m      4\u001b[0m     \u001b[0msimilar_cards\u001b[0m \u001b[0;34m=\u001b[0m \u001b[0;34m[\u001b[0m\u001b[0;34m]\u001b[0m\u001b[0;34m\u001b[0m\u001b[0m\n\u001b[1;32m      5\u001b[0m     \u001b[0;32mfor\u001b[0m \u001b[0mname_idx\u001b[0m\u001b[0;34m,\u001b[0m \u001b[0mscore\u001b[0m \u001b[0;32min\u001b[0m \u001b[0msimilarity_scores\u001b[0m\u001b[0;34m:\u001b[0m\u001b[0;34m\u001b[0m\u001b[0m\n",
      "\u001b[0;31mNameError\u001b[0m: name 'similarity_lda' is not defined"
     ]
    }
   ],
   "source": [
    "get_similar_cards_lda('Fatal Push')"
   ]
  },
  {
   "cell_type": "code",
   "execution_count": 145,
   "metadata": {
    "collapsed": false
   },
   "outputs": [
    {
     "data": {
      "text/plain": [
       "['destroy',\n",
       " 'target',\n",
       " 'creatur',\n",
       " 'convert',\n",
       " 'mana',\n",
       " 'cost',\n",
       " 'n',\n",
       " 'less',\n",
       " 'revolt',\n",
       " 'destroy',\n",
       " 'creatur',\n",
       " 'convert',\n",
       " 'mana',\n",
       " 'cost',\n",
       " 'n',\n",
       " 'less',\n",
       " 'instead',\n",
       " 'perman',\n",
       " 'control',\n",
       " 'left',\n",
       " 'battlefield',\n",
       " 'turn']"
      ]
     },
     "execution_count": 145,
     "metadata": {},
     "output_type": "execute_result"
    }
   ],
   "source": [
    "tokenize(cards['Fatal Push'])"
   ]
  },
  {
   "cell_type": "code",
   "execution_count": 146,
   "metadata": {
    "collapsed": false
   },
   "outputs": [
    {
     "data": {
      "text/plain": [
       "{'cmc': 1,\n",
       " 'colorIdentity': ['B'],\n",
       " 'colors': ['Black'],\n",
       " 'imageName': 'fatal push',\n",
       " 'layout': 'normal',\n",
       " 'manaCost': '{B}',\n",
       " 'name': 'Fatal Push',\n",
       " 'text': 'Destroy target creature if it has converted mana cost 2 or less.\\nRevolt — Destroy that creature if it has converted mana cost 4 or less instead if a permanent you controlled left the battlefield this turn.',\n",
       " 'type': 'Instant',\n",
       " 'types': ['Instant']}"
      ]
     },
     "execution_count": 146,
     "metadata": {},
     "output_type": "execute_result"
    }
   ],
   "source": [
    "cards['Fatal Push']"
   ]
  },
  {
   "cell_type": "markdown",
   "metadata": {},
   "source": [
    "# Model - HDP"
   ]
  },
  {
   "cell_type": "code",
   "execution_count": null,
   "metadata": {
    "collapsed": true
   },
   "outputs": [],
   "source": [
    "hdp = models.HdpModel(corpus, id2word=dictionary)\n",
    "corpus_hdp = hdp[corpus]"
   ]
  },
  {
   "cell_type": "code",
   "execution_count": null,
   "metadata": {
    "collapsed": false
   },
   "outputs": [],
   "source": [
    "index = similarities.MatrixSimilarity(corpus_hdp)\n",
    "index.save('all_cards_hdp.index')"
   ]
  },
  {
   "cell_type": "code",
   "execution_count": null,
   "metadata": {
    "collapsed": true
   },
   "outputs": [],
   "source": [
    "def similarity_hdp(card):\n",
    "    vec_bow = dictionary.doc2bow(tokenize(card))\n",
    "    vec_hdp = hdp[vec_bow]\n",
    "    scores = index[vec_hdp]\n",
    "    return sorted(enumerate(scores),\n",
    "            key=itemgetter(1), reverse=True)"
   ]
  },
  {
   "cell_type": "code",
   "execution_count": null,
   "metadata": {
    "collapsed": true
   },
   "outputs": [],
   "source": [
    "def get_similar_cards_hdp(card_name, N=10):\n",
    "    card = cards[card_name]\n",
    "    similarity_scores = similarity_hdp(card)\n",
    "    similar_cards = []\n",
    "    for name_idx, score in similarity_scores:\n",
    "        this_card_name = card_names[name_idx]\n",
    "        if this_card_name != card_name:\n",
    "            this_card = cards[this_card_name]\n",
    "            similar_cards.append((score, this_card['name'], this_card.get('text', '')))\n",
    "        if len(similar_cards) >= N:\n",
    "            break\n",
    "    return similar_cards"
   ]
  },
  {
   "cell_type": "code",
   "execution_count": null,
   "metadata": {
    "collapsed": false
   },
   "outputs": [],
   "source": [
    "get_similar_cards_hdp('Windfall')"
   ]
  },
  {
   "cell_type": "code",
   "execution_count": null,
   "metadata": {
    "collapsed": false
   },
   "outputs": [],
   "source": [
    "hdp.print_topics()"
   ]
  },
  {
   "cell_type": "code",
   "execution_count": null,
   "metadata": {
    "collapsed": true
   },
   "outputs": [],
   "source": []
  }
 ],
 "metadata": {
  "kernelspec": {
   "display_name": "Python [conda root]",
   "language": "python",
   "name": "conda-root-py"
  },
  "language_info": {
   "codemirror_mode": {
    "name": "ipython",
    "version": 3
   },
   "file_extension": ".py",
   "mimetype": "text/x-python",
   "name": "python",
   "nbconvert_exporter": "python",
   "pygments_lexer": "ipython3",
   "version": "3.5.2"
  }
 },
 "nbformat": 4,
 "nbformat_minor": 2
}
