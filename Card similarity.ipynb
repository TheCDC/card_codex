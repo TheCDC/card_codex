{
 "cells": [
  {
   "cell_type": "code",
   "execution_count": 1,
   "metadata": {
    "collapsed": false
   },
   "outputs": [],
   "source": [
    "import codecs\n",
    "import collections\n",
    "import itertools\n",
    "import json\n",
    "import re\n",
    "import zipfile\n",
    "from operator import itemgetter\n",
    "\n",
    "import nltk.stem, nltk.corpus\n",
    "import wget\n",
    "from gensim import corpora, models, similarities"
   ]
  },
  {
   "cell_type": "markdown",
   "metadata": {},
   "source": [
    "# Generate documents"
   ]
  },
  {
   "cell_type": "code",
   "execution_count": 2,
   "metadata": {
    "collapsed": false
   },
   "outputs": [],
   "source": [
    "try:\n",
    "    fname = 'AllCards.json.zip'\n",
    "    zf = zipfile.ZipFile(fname)\n",
    "except FileNotFoundError:\n",
    "    url = 'https://mtgjson.com/json/AllCards.json.zip'\n",
    "    fname = wget.download(url)\n",
    "    zf = zipfile.ZipFile(fname) "
   ]
  },
  {
   "cell_type": "code",
   "execution_count": 3,
   "metadata": {
    "collapsed": false
   },
   "outputs": [],
   "source": [
    "reader = codecs.getreader(\"utf-8\")\n",
    "cards = json.load(reader(zf.open('AllCards.json')))"
   ]
  },
  {
   "cell_type": "code",
   "execution_count": 4,
   "metadata": {
    "collapsed": false
   },
   "outputs": [
    {
     "data": {
      "text/plain": [
       "{'cmc': 1,\n",
       " 'colorIdentity': ['G'],\n",
       " 'colors': ['Green'],\n",
       " 'imageName': 'mossdog',\n",
       " 'layout': 'normal',\n",
       " 'manaCost': '{G}',\n",
       " 'name': 'Mossdog',\n",
       " 'power': '1',\n",
       " 'subtypes': ['Plant', 'Hound'],\n",
       " 'text': 'Whenever Mossdog becomes the target of a spell or ability an opponent controls, put a +1/+1 counter on Mossdog.',\n",
       " 'toughness': '1',\n",
       " 'type': 'Creature — Plant Hound',\n",
       " 'types': ['Creature']}"
      ]
     },
     "execution_count": 4,
     "metadata": {},
     "output_type": "execute_result"
    }
   ],
   "source": [
    "cards['Mossdog']"
   ]
  },
  {
   "cell_type": "code",
   "execution_count": 5,
   "metadata": {
    "collapsed": false
   },
   "outputs": [],
   "source": [
    "card_names = list(cards.keys())\n",
    "with open('card_names.txt', 'w') as f:\n",
    "    f.writelines(t + '\\n' for t in card_names)"
   ]
  },
  {
   "cell_type": "code",
   "execution_count": 6,
   "metadata": {
    "collapsed": false
   },
   "outputs": [
    {
     "name": "stdout",
     "output_type": "stream",
     "text": [
      "[nltk_data] Downloading package stopwords to\n",
      "[nltk_data]     /home/claydavi/nltk_data...\n",
      "[nltk_data]   Package stopwords is already up-to-date!\n"
     ]
    }
   ],
   "source": [
    "nltk.download('stopwords')\n",
    "stopwords = set(nltk.corpus.stopwords.words('english'))"
   ]
  },
  {
   "cell_type": "code",
   "execution_count": 7,
   "metadata": {
    "collapsed": true
   },
   "outputs": [],
   "source": [
    "stemmer = nltk.stem.snowball.SnowballStemmer('english')"
   ]
  },
  {
   "cell_type": "code",
   "execution_count": 24,
   "metadata": {
    "collapsed": false
   },
   "outputs": [],
   "source": [
    "def tokenize(card):\n",
    "    text = ' '.join([card.get('text', '')]\n",
    "                   # + card.get('types', [])\n",
    "                   + card.get('subtypes', [])\n",
    "                    )\n",
    "    text = text.lower()\n",
    "    ## Replace card name with ~\n",
    "    text = text.replace(card['name'].lower(), '~')\n",
    "    ## remove reminder text (in parentheses)\n",
    "    text = re.sub(r'\\([^)]+\\)', '', text)\n",
    "    ## remove costs\n",
    "    text = re.sub(r'\\{[^}]+\\}', '', text)\n",
    "    ## genericize all p/t (de)buffs\n",
    "    text = re.sub(r'([+-])[\\dX*]/([+-])[\\dX*]', r'\\1X/\\2X', text)\n",
    "    ## genericize numbers\n",
    "    text = re.sub(r'\\d+', 'N', text)\n",
    "    ## split on punctuation and spaces\n",
    "    tokens = re.split(r'[\\s.,;:—()]+', text)\n",
    "    # use only unique tokens?\n",
    "    # tokens = set(tokens)\n",
    "    # stem tokens\n",
    "    tokens = (stemmer.stem(t) for t in tokens if t and t not in stopwords)\n",
    "\n",
    "    ## The following allows us to singularize certain terms.\n",
    "    ## For example, the word 'equip' is way over-represented on equipment\n",
    "    counter = collections.Counter(tokens)\n",
    "    if counter['equip']:\n",
    "        counter['equip'] = 1\n",
    "    \n",
    "    tokens = itertools.chain.from_iterable([token] * count for token, count in counter.items())\n",
    "        \n",
    "    return list(tokens)\n",
    "\n",
    "documents = [tokenize(c) for c in cards.values()]\n",
    "# next(documents)"
   ]
  },
  {
   "cell_type": "code",
   "execution_count": 25,
   "metadata": {
    "collapsed": false
   },
   "outputs": [],
   "source": [
    "dictionary = corpora.Dictionary(documents)\n",
    "dictionary.save('dictionary.dict')"
   ]
  },
  {
   "cell_type": "code",
   "execution_count": 26,
   "metadata": {
    "collapsed": false
   },
   "outputs": [
    {
     "name": "stdout",
     "output_type": "stream",
     "text": [
      "1661\n"
     ]
    }
   ],
   "source": [
    "print(len(dictionary))"
   ]
  },
  {
   "cell_type": "code",
   "execution_count": 27,
   "metadata": {
    "collapsed": false
   },
   "outputs": [],
   "source": [
    "corpus = [dictionary.doc2bow(doc) for doc in documents]\n",
    "corpora.MmCorpus.serialize('card_text_corpus.mm', corpus)"
   ]
  },
  {
   "cell_type": "markdown",
   "metadata": {},
   "source": [
    "# Model - LSI"
   ]
  },
  {
   "cell_type": "code",
   "execution_count": 28,
   "metadata": {
    "collapsed": true
   },
   "outputs": [],
   "source": [
    "tfidf = models.TfidfModel(corpus)\n",
    "corpus_tfidf = tfidf[corpus]"
   ]
  },
  {
   "cell_type": "code",
   "execution_count": 29,
   "metadata": {
    "collapsed": false
   },
   "outputs": [],
   "source": [
    "lsi = models.LsiModel(corpus, id2word=dictionary, num_topics=100)\n",
    "corpus_lsi = lsi[corpus_tfidf]"
   ]
  },
  {
   "cell_type": "code",
   "execution_count": 30,
   "metadata": {
    "collapsed": false
   },
   "outputs": [
    {
     "data": {
      "text/plain": [
       "[(0,\n",
       "  '0.555*\"creatur\" + 0.438*\"~\" + 0.250*\"target\" + 0.231*\"card\" + 0.198*\"control\" + 0.174*\"turn\" + 0.156*\"battlefield\" + 0.152*\"player\" + 0.136*\"damag\" + 0.130*\"n\"'),\n",
       " (1,\n",
       "  '0.559*\"card\" + -0.517*\"creatur\" + 0.240*\"librari\" + 0.232*\"~\" + 0.174*\"put\" + -0.156*\"enchant\" + 0.152*\"player\" + 0.142*\"battlefield\" + 0.139*\"hand\" + -0.129*\"turn\"'),\n",
       " (2,\n",
       "  '-0.632*\"~\" + 0.458*\"card\" + 0.349*\"creatur\" + 0.200*\"librari\" + -0.195*\"counter\" + -0.148*\"enter\" + 0.136*\"enchant\" + -0.120*\"battlefield\" + 0.098*\"reveal\" + -0.096*\"damag\"'),\n",
       " (3,\n",
       "  '0.426*\"player\" + 0.421*\"damag\" + 0.348*\"n\" + 0.330*\"deal\" + 0.278*\"target\" + -0.236*\"+x/+x\" + -0.225*\"battlefield\" + -0.186*\"get\" + -0.159*\"end\" + -0.149*\"enter\"'),\n",
       " (4,\n",
       "  '-0.575*\"turn\" + -0.442*\"end\" + 0.277*\"creatur\" + 0.269*\"enchant\" + -0.243*\"target\" + -0.238*\"get\" + 0.198*\"battlefield\" + -0.175*\"gain\" + -0.149*\"+x/+x\" + 0.132*\"enter\"')]"
      ]
     },
     "execution_count": 30,
     "metadata": {},
     "output_type": "execute_result"
    }
   ],
   "source": [
    "lsi.print_topics()[:5]"
   ]
  },
  {
   "cell_type": "code",
   "execution_count": 31,
   "metadata": {
    "collapsed": false
   },
   "outputs": [
    {
     "data": {
      "text/plain": [
       "'Each player discards his or her hand, then draws cards equal to the greatest number of cards a player discarded this way.'"
      ]
     },
     "execution_count": 31,
     "metadata": {},
     "output_type": "execute_result"
    }
   ],
   "source": [
    "card = cards['Windfall']\n",
    "card['text']"
   ]
  },
  {
   "cell_type": "code",
   "execution_count": 32,
   "metadata": {
    "collapsed": false
   },
   "outputs": [
    {
     "data": {
      "text/plain": [
       "[(0, 1.0178801609098955),\n",
       " (1, 1.8156341013312149),\n",
       " (2, 1.2813015562618124),\n",
       " (3, 0.79626321583329962),\n",
       " (4, -0.32558114210264161)]"
      ]
     },
     "execution_count": 32,
     "metadata": {},
     "output_type": "execute_result"
    }
   ],
   "source": [
    "vec_bow = dictionary.doc2bow(tokenize(card))\n",
    "vec_lsi = lsi[vec_bow]\n",
    "vec_lsi[:5]"
   ]
  },
  {
   "cell_type": "markdown",
   "metadata": {},
   "source": [
    "# Create index"
   ]
  },
  {
   "cell_type": "code",
   "execution_count": 33,
   "metadata": {
    "collapsed": true
   },
   "outputs": [],
   "source": [
    "index = similarities.MatrixSimilarity(corpus_lsi)\n",
    "index.save('all_cards_lsi.index')"
   ]
  },
  {
   "cell_type": "code",
   "execution_count": 34,
   "metadata": {
    "collapsed": true
   },
   "outputs": [],
   "source": [
    "def similarity(card):\n",
    "    vec_bow = dictionary.doc2bow(tokenize(card))\n",
    "    vec_lsi = lsi[tfidf[vec_bow]]\n",
    "    scores = index[vec_lsi]\n",
    "    return sorted(enumerate(scores),\n",
    "            key=itemgetter(1), reverse=True)"
   ]
  },
  {
   "cell_type": "code",
   "execution_count": 35,
   "metadata": {
    "collapsed": false
   },
   "outputs": [
    {
     "data": {
      "text/plain": [
       "[(15407, 1.0),\n",
       " (7638, 0.9999792),\n",
       " (3952, 0.9443627),\n",
       " (6033, 0.85077488),\n",
       " (13712, 0.8505941),\n",
       " (5159, 0.83898509),\n",
       " (11175, 0.83895528),\n",
       " (9489, 0.81935519),\n",
       " (13713, 0.80658031),\n",
       " (5024, 0.79528826)]"
      ]
     },
     "execution_count": 35,
     "metadata": {},
     "output_type": "execute_result"
    }
   ],
   "source": [
    "similarity(card)[:10]"
   ]
  },
  {
   "cell_type": "code",
   "execution_count": 36,
   "metadata": {
    "collapsed": false
   },
   "outputs": [],
   "source": [
    "def get_similar_cards(card_name, N=10):\n",
    "    card = cards[card_name]\n",
    "    similarity_scores = similarity(card)\n",
    "    similar_cards = []\n",
    "    for name_idx, score in similarity_scores:\n",
    "        this_card_name = card_names[name_idx]\n",
    "        if this_card_name != card_name:\n",
    "            this_card = cards[this_card_name]\n",
    "            similar_cards.append((score, this_card['name'], this_card['text']))\n",
    "        if len(similar_cards) >= N:\n",
    "            break\n",
    "    return similar_cards\n",
    "        "
   ]
  },
  {
   "cell_type": "code",
   "execution_count": 37,
   "metadata": {
    "collapsed": false
   },
   "outputs": [
    {
     "data": {
      "text/plain": [
       "[(0.88850492,\n",
       "  'Nighthowler',\n",
       "  \"Bestow {2}{B}{B} (If you cast this card for its bestow cost, it's an Aura spell with enchant creature. It becomes a creature again if it's not attached to a creature.)\\nNighthowler and enchanted creature each get +X/+X, where X is the number of creature cards in all graveyards.\"),\n",
       " (0.8348543,\n",
       "  \"Ghoul's Feast\",\n",
       "  'Target creature gets +X/+0 until end of turn, where X is the number of creature cards in your graveyard.'),\n",
       " (0.77709156,\n",
       "  'Meishin, the Mind Cage',\n",
       "  'All creatures get -X/-0, where X is the number of cards in your hand.'),\n",
       " (0.7465235,\n",
       "  'Multani',\n",
       "  'Creatures you control get +X/+0, where X is the number of cards in your hand.'),\n",
       " (0.74499315,\n",
       "  \"Marshal's Anthem\",\n",
       "  \"Multikicker {1}{W} (You may pay an additional {1}{W} any number of times as you cast this spell.)\\nCreatures you control get +1/+1.\\nWhen Marshal's Anthem enters the battlefield, return up to X target creature cards from your graveyard to the battlefield, where X is the number of times Marshal's Anthem was kicked.\"),\n",
       " (0.74194109,\n",
       "  'Spoils of War',\n",
       "  \"X is the number of artifact and/or creature cards in an opponent's graveyard as you cast Spoils of War.\\nDistribute X +1/+1 counters among any number of target creatures.\"),\n",
       " (0.73572415,\n",
       "  'Wirewood Pride',\n",
       "  'Target creature gets +X/+X until end of turn, where X is the number of Elves on the battlefield.'),\n",
       " (0.73068392,\n",
       "  'Inner Calm, Outer Strength',\n",
       "  'Target creature gets +X/+X until end of turn, where X is the number of cards in your hand.'),\n",
       " (0.72571337,\n",
       "  'Muscle Burst',\n",
       "  'Target creature gets +X/+X until end of turn, where X is 3 plus the number of cards named Muscle Burst in all graveyards.'),\n",
       " (0.71857858,\n",
       "  'Kjeldoran War Cry',\n",
       "  'Creatures you control get +X/+X until end of turn, where X is 1 plus the number of cards named Kjeldoran War Cry in all graveyards.')]"
      ]
     },
     "execution_count": 37,
     "metadata": {},
     "output_type": "execute_result"
    }
   ],
   "source": [
    "get_similar_cards('Bonehoard')"
   ]
  },
  {
   "cell_type": "code",
   "execution_count": 38,
   "metadata": {
    "collapsed": false
   },
   "outputs": [
    {
     "data": {
      "text/plain": [
       "'Living weapon (When this Equipment enters the battlefield, create a 0/0 black Germ creature token, then attach this to it.)\\nEquipped creature gets +X/+X, where X is the number of creature cards in all graveyards.\\nEquip {2}'"
      ]
     },
     "execution_count": 38,
     "metadata": {},
     "output_type": "execute_result"
    }
   ],
   "source": [
    "cards['Bonehoard']['text']"
   ]
  },
  {
   "cell_type": "code",
   "execution_count": 39,
   "metadata": {
    "collapsed": false
   },
   "outputs": [
    {
     "data": {
      "text/plain": [
       "['graveyard',\n",
       " 'live',\n",
       " 'get',\n",
       " 'number',\n",
       " 'weapon',\n",
       " 'card',\n",
       " 'creatur',\n",
       " 'creatur',\n",
       " 'equip',\n",
       " '+x/+x',\n",
       " 'x']"
      ]
     },
     "execution_count": 39,
     "metadata": {},
     "output_type": "execute_result"
    }
   ],
   "source": [
    "tokenize(cards['Bonehoard'])"
   ]
  },
  {
   "cell_type": "markdown",
   "metadata": {},
   "source": [
    "# Model - LDA"
   ]
  },
  {
   "cell_type": "code",
   "execution_count": 187,
   "metadata": {
    "collapsed": true
   },
   "outputs": [],
   "source": [
    "lda = models.LdaMulticore(corpus, id2word=dictionary, num_topics=100)\n",
    "corpus_lda = lda[corpus]"
   ]
  },
  {
   "cell_type": "code",
   "execution_count": 188,
   "metadata": {
    "collapsed": false
   },
   "outputs": [],
   "source": [
    "index = similarities.MatrixSimilarity(corpus_lda)\n",
    "index.save('all_cards_lda.index')"
   ]
  },
  {
   "cell_type": "code",
   "execution_count": 189,
   "metadata": {
    "collapsed": true
   },
   "outputs": [],
   "source": [
    "def similarity_lda(card):\n",
    "    vec_bow = dictionary.doc2bow(tokenize(card))\n",
    "    vec_lda = lda[vec_bow]\n",
    "    scores = index[vec_lda]\n",
    "    return sorted(enumerate(scores),\n",
    "            key=itemgetter(1), reverse=True)"
   ]
  },
  {
   "cell_type": "code",
   "execution_count": 190,
   "metadata": {
    "collapsed": true
   },
   "outputs": [],
   "source": [
    "def get_similar_cards_lda(card_name, N=10):\n",
    "    card = cards[card_name]\n",
    "    similarity_scores = similarity_lda(card)\n",
    "    similar_cards = []\n",
    "    for name_idx, score in similarity_scores:\n",
    "        this_card_name = card_names[name_idx]\n",
    "        if this_card_name != card_name:\n",
    "            this_card = cards[this_card_name]\n",
    "            similar_cards.append((score, this_card['name'], this_card.get('text', '')))\n",
    "        if len(similar_cards) >= N:\n",
    "            break\n",
    "    return similar_cards"
   ]
  },
  {
   "cell_type": "code",
   "execution_count": 191,
   "metadata": {
    "collapsed": false
   },
   "outputs": [
    {
     "data": {
      "text/plain": [
       "[(0.97876126,\n",
       "  \"Ephara's Warden\",\n",
       "  '{T}: Tap target creature with power 3 or less.'),\n",
       " (0.97876126,\n",
       "  'Renegade Wheelsmith',\n",
       "  \"Whenever Renegade Wheelsmith becomes tapped, target creature can't block this turn.\"),\n",
       " (0.97876126,\n",
       "  'Tel-Jilad Justice',\n",
       "  'Destroy target artifact. Scry 2. (Look at the top two cards of your library, then put any number of them on the bottom of your library and the rest on top in any order.)'),\n",
       " (0.97876126,\n",
       "  'Pontiff of Blight',\n",
       "  'Extort (Whenever you cast a spell, you may pay {W/B}. If you do, each opponent loses 1 life and you gain that much life.)\\nOther creatures you control have extort. (If a creature has multiple instances of extort, each triggers separately.)'),\n",
       " (0.97876126,\n",
       "  'Darksteel Pendant',\n",
       "  'Indestructible (Effects that say \"destroy\" don\\'t destroy this artifact.)\\n{1}, {T}: Scry 1. (Look at the top card of your library. You may put that card on the bottom of your library.)'),\n",
       " (0.97876126,\n",
       "  'Smite the Monstrous',\n",
       "  'Destroy target creature with power 4 or greater.'),\n",
       " (0.97876126,\n",
       "  'Humble the Brute',\n",
       "  'Destroy target creature with power 4 or greater.\\nInvestigate. (Create a colorless Clue artifact token with \"{2}, Sacrifice this artifact: Draw a card.\")'),\n",
       " (0.97876126,\n",
       "  'Glimpse the Sun God',\n",
       "  'Tap X target creatures. Scry 1. (Look at the top card of your library. You may put that card on the bottom of your library.)'),\n",
       " (0.97876126,\n",
       "  'Viscerid Drone',\n",
       "  \"{T}, Sacrifice a creature and a Swamp: Destroy target nonartifact creature. It can't be regenerated.\\n{T}, Sacrifice a creature and a snow Swamp: Destroy target creature. It can't be regenerated.\"),\n",
       " (0.97876126,\n",
       "  'Blinding Souleater',\n",
       "  '{W/P}, {T}: Tap target creature. ({W/P} can be paid with either {W} or 2 life.)')]"
      ]
     },
     "execution_count": 191,
     "metadata": {},
     "output_type": "execute_result"
    }
   ],
   "source": [
    "get_similar_cards_lda('Fatal Push')"
   ]
  },
  {
   "cell_type": "code",
   "execution_count": 145,
   "metadata": {
    "collapsed": false
   },
   "outputs": [
    {
     "data": {
      "text/plain": [
       "['destroy',\n",
       " 'target',\n",
       " 'creatur',\n",
       " 'convert',\n",
       " 'mana',\n",
       " 'cost',\n",
       " 'n',\n",
       " 'less',\n",
       " 'revolt',\n",
       " 'destroy',\n",
       " 'creatur',\n",
       " 'convert',\n",
       " 'mana',\n",
       " 'cost',\n",
       " 'n',\n",
       " 'less',\n",
       " 'instead',\n",
       " 'perman',\n",
       " 'control',\n",
       " 'left',\n",
       " 'battlefield',\n",
       " 'turn']"
      ]
     },
     "execution_count": 145,
     "metadata": {},
     "output_type": "execute_result"
    }
   ],
   "source": [
    "tokenize(cards['Fatal Push'])"
   ]
  },
  {
   "cell_type": "code",
   "execution_count": 146,
   "metadata": {
    "collapsed": false
   },
   "outputs": [
    {
     "data": {
      "text/plain": [
       "{'cmc': 1,\n",
       " 'colorIdentity': ['B'],\n",
       " 'colors': ['Black'],\n",
       " 'imageName': 'fatal push',\n",
       " 'layout': 'normal',\n",
       " 'manaCost': '{B}',\n",
       " 'name': 'Fatal Push',\n",
       " 'text': 'Destroy target creature if it has converted mana cost 2 or less.\\nRevolt — Destroy that creature if it has converted mana cost 4 or less instead if a permanent you controlled left the battlefield this turn.',\n",
       " 'type': 'Instant',\n",
       " 'types': ['Instant']}"
      ]
     },
     "execution_count": 146,
     "metadata": {},
     "output_type": "execute_result"
    }
   ],
   "source": [
    "cards['Fatal Push']"
   ]
  },
  {
   "cell_type": "markdown",
   "metadata": {},
   "source": [
    "# Model - HDP"
   ]
  },
  {
   "cell_type": "code",
   "execution_count": null,
   "metadata": {
    "collapsed": true
   },
   "outputs": [],
   "source": [
    "hdp = models.HdpModel(corpus, id2word=dictionary)\n",
    "corpus_hdp = hdp[corpus]"
   ]
  },
  {
   "cell_type": "code",
   "execution_count": null,
   "metadata": {
    "collapsed": false
   },
   "outputs": [],
   "source": [
    "index = similarities.MatrixSimilarity(corpus_hdp)\n",
    "index.save('all_cards_hdp.index')"
   ]
  },
  {
   "cell_type": "code",
   "execution_count": null,
   "metadata": {
    "collapsed": true
   },
   "outputs": [],
   "source": [
    "def similarity_hdp(card):\n",
    "    vec_bow = dictionary.doc2bow(tokenize(card))\n",
    "    vec_hdp = hdp[vec_bow]\n",
    "    scores = index[vec_hdp]\n",
    "    return sorted(enumerate(scores),\n",
    "            key=itemgetter(1), reverse=True)"
   ]
  },
  {
   "cell_type": "code",
   "execution_count": null,
   "metadata": {
    "collapsed": true
   },
   "outputs": [],
   "source": [
    "def get_similar_cards_hdp(card_name, N=10):\n",
    "    card = cards[card_name]\n",
    "    similarity_scores = similarity_hdp(card)\n",
    "    similar_cards = []\n",
    "    for name_idx, score in similarity_scores:\n",
    "        this_card_name = card_names[name_idx]\n",
    "        if this_card_name != card_name:\n",
    "            this_card = cards[this_card_name]\n",
    "            similar_cards.append((score, this_card['name'], this_card.get('text', '')))\n",
    "        if len(similar_cards) >= N:\n",
    "            break\n",
    "    return similar_cards"
   ]
  },
  {
   "cell_type": "code",
   "execution_count": null,
   "metadata": {
    "collapsed": false
   },
   "outputs": [],
   "source": [
    "get_similar_cards_hdp('Windfall')"
   ]
  },
  {
   "cell_type": "code",
   "execution_count": null,
   "metadata": {
    "collapsed": false
   },
   "outputs": [],
   "source": [
    "hdp.print_topics()"
   ]
  },
  {
   "cell_type": "code",
   "execution_count": null,
   "metadata": {
    "collapsed": true
   },
   "outputs": [],
   "source": []
  }
 ],
 "metadata": {
  "kernelspec": {
   "display_name": "Python [Root]",
   "language": "python",
   "name": "Python [Root]"
  },
  "language_info": {
   "codemirror_mode": {
    "name": "ipython",
    "version": 3
   },
   "file_extension": ".py",
   "mimetype": "text/x-python",
   "name": "python",
   "nbconvert_exporter": "python",
   "pygments_lexer": "ipython3",
   "version": "3.5.1"
  }
 },
 "nbformat": 4,
 "nbformat_minor": 2
}
