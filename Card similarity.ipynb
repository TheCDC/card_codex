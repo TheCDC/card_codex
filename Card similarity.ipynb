{
 "cells": [
  {
   "cell_type": "code",
   "execution_count": 2,
   "metadata": {
    "collapsed": false,
    "deletable": true,
    "editable": true
   },
   "outputs": [],
   "source": [
    "import codecs\n",
    "import collections\n",
    "import gzip\n",
    "import itertools\n",
    "import json\n",
    "import re\n",
    "from operator import itemgetter\n",
    "\n",
    "import nltk.stem, nltk.corpus\n",
    "import wget\n",
    "from gensim import corpora, models, similarities"
   ]
  },
  {
   "cell_type": "markdown",
   "metadata": {
    "deletable": true,
    "editable": true
   },
   "source": [
    "# Generate documents"
   ]
  },
  {
   "cell_type": "code",
   "execution_count": 3,
   "metadata": {
    "collapsed": false,
    "deletable": true,
    "editable": true
   },
   "outputs": [],
   "source": [
    "try:\n",
    "    fname = 'AllCards.json.gz'\n",
    "    cards = json.load(gzip.open(fname, 'rt'))\n",
    "except FileNotFoundError:\n",
    "    url = 'https://mtgjson.com/json/AllCards.json.gz'\n",
    "    fname = wget.download(url)\n",
    "    cards = json.load(gzip.open(fname, 'rt'))"
   ]
  },
  {
   "cell_type": "code",
   "execution_count": 4,
   "metadata": {
    "collapsed": false,
    "deletable": true,
    "editable": true
   },
   "outputs": [
    {
     "data": {
      "text/plain": [
       "{'cmc': 1,\n",
       " 'colorIdentity': ['G'],\n",
       " 'colors': ['Green'],\n",
       " 'imageName': 'mossdog',\n",
       " 'layout': 'normal',\n",
       " 'manaCost': '{G}',\n",
       " 'name': 'Mossdog',\n",
       " 'power': '1',\n",
       " 'subtypes': ['Plant', 'Hound'],\n",
       " 'text': 'Whenever Mossdog becomes the target of a spell or ability an opponent controls, put a +1/+1 counter on Mossdog.',\n",
       " 'toughness': '1',\n",
       " 'type': 'Creature — Plant Hound',\n",
       " 'types': ['Creature']}"
      ]
     },
     "execution_count": 4,
     "metadata": {},
     "output_type": "execute_result"
    }
   ],
   "source": [
    "cards['Mossdog']"
   ]
  },
  {
   "cell_type": "code",
   "execution_count": 5,
   "metadata": {
    "collapsed": false,
    "deletable": true,
    "editable": true
   },
   "outputs": [],
   "source": [
    "card_names = list(cards.keys())\n",
    "with open('card_names.txt', 'w') as f:\n",
    "    f.writelines(t + '\\n' for t in card_names)"
   ]
  },
  {
   "cell_type": "code",
   "execution_count": 6,
   "metadata": {
    "collapsed": false,
    "deletable": true,
    "editable": true
   },
   "outputs": [
    {
     "name": "stdout",
     "output_type": "stream",
     "text": [
      "[nltk_data] Downloading package stopwords to\n",
      "[nltk_data]     /home/christopher/nltk_data...\n",
      "[nltk_data]   Package stopwords is already up-to-date!\n"
     ]
    }
   ],
   "source": [
    "nltk.download('stopwords')\n",
    "stopwords = set(nltk.corpus.stopwords.words('english'))"
   ]
  },
  {
   "cell_type": "code",
   "execution_count": 7,
   "metadata": {
    "collapsed": true,
    "deletable": true,
    "editable": true
   },
   "outputs": [],
   "source": [
    "stemmer = nltk.stem.snowball.SnowballStemmer('english')"
   ]
  },
  {
   "cell_type": "code",
   "execution_count": 8,
   "metadata": {
    "collapsed": false,
    "deletable": true,
    "editable": true
   },
   "outputs": [],
   "source": [
    "def tokenize(card):\n",
    "    text = ' '.join([card.get('text', '')]\n",
    "                   # + card.get('types', [])\n",
    "                   + card.get('subtypes', [])\n",
    "                    )\n",
    "    text = text.lower()\n",
    "    ## Replace card name with ~\n",
    "    text = text.replace(card['name'].lower(), '~')\n",
    "    ## remove reminder text (in parentheses)\n",
    "    text = re.sub(r'\\([^)]+\\)', '', text)\n",
    "    ## remove costs\n",
    "    text = re.sub(r'\\{[^}]+\\}', '', text)\n",
    "    ## genericize all p/t (de)buffs\n",
    "    text = re.sub(r'([+-])[\\dX*]/([+-])[\\dX*]', r'\\1X/\\2X', text)\n",
    "    ## genericize numbers\n",
    "    text = re.sub(r'\\d+', 'N', text)\n",
    "    ## split on punctuation and spaces\n",
    "    tokens = re.split(r'[\\s.,;:—()]+', text)\n",
    "    # use only unique tokens?\n",
    "    # tokens = set(tokens)\n",
    "    # stem tokens\n",
    "    tokens = (stemmer.stem(t) for t in tokens if t and t not in stopwords)\n",
    "\n",
    "    ## The following allows us to singularize certain terms.\n",
    "    ## For example, the word 'equip' is way over-represented on equipment\n",
    "    counter = collections.Counter(tokens)\n",
    "    if counter['equip']:\n",
    "        counter['equip'] = 1\n",
    "    \n",
    "    tokens = itertools.chain.from_iterable([token] * count for token, count in counter.items())\n",
    "        \n",
    "    return list(tokens)\n",
    "\n",
    "documents = [tokenize(c) for c in cards.values()]\n",
    "# next(documents)"
   ]
  },
  {
   "cell_type": "code",
   "execution_count": 9,
   "metadata": {
    "collapsed": false,
    "deletable": true,
    "editable": true
   },
   "outputs": [],
   "source": [
    "dictionary = corpora.Dictionary(documents)\n",
    "dictionary.save('dictionary.dict')"
   ]
  },
  {
   "cell_type": "code",
   "execution_count": 10,
   "metadata": {
    "collapsed": false,
    "deletable": true,
    "editable": true
   },
   "outputs": [
    {
     "name": "stdout",
     "output_type": "stream",
     "text": [
      "1674\n"
     ]
    }
   ],
   "source": [
    "print(len(dictionary))"
   ]
  },
  {
   "cell_type": "code",
   "execution_count": 11,
   "metadata": {
    "collapsed": false,
    "deletable": true,
    "editable": true
   },
   "outputs": [],
   "source": [
    "corpus = [dictionary.doc2bow(doc) for doc in documents]\n",
    "corpora.MmCorpus.serialize('card_text_corpus.mm', corpus)"
   ]
  },
  {
   "cell_type": "markdown",
   "metadata": {
    "deletable": true,
    "editable": true
   },
   "source": [
    "# Model - LSI"
   ]
  },
  {
   "cell_type": "code",
   "execution_count": 12,
   "metadata": {
    "collapsed": true,
    "deletable": true,
    "editable": true
   },
   "outputs": [],
   "source": [
    "tfidf = models.TfidfModel(corpus)\n",
    "corpus_tfidf = tfidf[corpus]"
   ]
  },
  {
   "cell_type": "code",
   "execution_count": 13,
   "metadata": {
    "collapsed": false,
    "deletable": true,
    "editable": true
   },
   "outputs": [],
   "source": [
    "lsi = models.LsiModel(corpus, id2word=dictionary, num_topics=100)\n",
    "corpus_lsi = lsi[corpus_tfidf]"
   ]
  },
  {
   "cell_type": "code",
   "execution_count": 14,
   "metadata": {
    "collapsed": false,
    "deletable": true,
    "editable": true
   },
   "outputs": [
    {
     "data": {
      "text/plain": [
       "[(0,\n",
       "  '0.554*\"creatur\" + 0.437*\"~\" + 0.251*\"target\" + 0.231*\"card\" + 0.199*\"control\" + 0.175*\"turn\" + 0.154*\"battlefield\" + 0.151*\"player\" + 0.136*\"damag\" + 0.131*\"n\"'),\n",
       " (1,\n",
       "  '-0.559*\"card\" + 0.517*\"creatur\" + -0.242*\"librari\" + -0.229*\"~\" + -0.175*\"put\" + 0.155*\"enchant\" + -0.150*\"player\" + -0.142*\"battlefield\" + -0.140*\"hand\" + 0.129*\"turn\"'),\n",
       " (2,\n",
       "  '0.634*\"~\" + -0.454*\"card\" + -0.348*\"creatur\" + -0.200*\"librari\" + 0.195*\"counter\" + 0.148*\"enter\" + -0.135*\"enchant\" + 0.121*\"battlefield\" + -0.097*\"reveal\" + -0.097*\"target\"'),\n",
       " (3,\n",
       "  '-0.424*\"player\" + -0.420*\"damag\" + -0.350*\"n\" + -0.331*\"deal\" + -0.275*\"target\" + 0.239*\"+x/+x\" + 0.219*\"battlefield\" + 0.191*\"get\" + 0.167*\"end\" + 0.146*\"enter\"'),\n",
       " (4,\n",
       "  '0.573*\"turn\" + 0.439*\"end\" + -0.280*\"creatur\" + -0.272*\"enchant\" + 0.247*\"target\" + 0.235*\"get\" + -0.198*\"battlefield\" + 0.175*\"gain\" + 0.146*\"+x/+x\" + -0.134*\"enter\"')]"
      ]
     },
     "execution_count": 14,
     "metadata": {},
     "output_type": "execute_result"
    }
   ],
   "source": [
    "lsi.print_topics()[:5]"
   ]
  },
  {
   "cell_type": "code",
   "execution_count": 15,
   "metadata": {
    "collapsed": false,
    "deletable": true,
    "editable": true
   },
   "outputs": [
    {
     "data": {
      "text/plain": [
       "'Each player discards his or her hand, then draws cards equal to the greatest number of cards a player discarded this way.'"
      ]
     },
     "execution_count": 15,
     "metadata": {},
     "output_type": "execute_result"
    }
   ],
   "source": [
    "card = cards['Windfall']\n",
    "card['text']"
   ]
  },
  {
   "cell_type": "code",
   "execution_count": 16,
   "metadata": {
    "collapsed": false,
    "deletable": true,
    "editable": true
   },
   "outputs": [
    {
     "data": {
      "text/plain": [
       "[(0, 1.0192800887160796),\n",
       " (1, -1.8133921488776878),\n",
       " (2, -1.2717751696568453),\n",
       " (3, -0.78778770432061562),\n",
       " (4, 0.33429558454834479)]"
      ]
     },
     "execution_count": 16,
     "metadata": {},
     "output_type": "execute_result"
    }
   ],
   "source": [
    "vec_bow = dictionary.doc2bow(tokenize(card))\n",
    "vec_lsi = lsi[vec_bow]\n",
    "vec_lsi[:5]"
   ]
  },
  {
   "cell_type": "markdown",
   "metadata": {
    "deletable": true,
    "editable": true
   },
   "source": [
    "# Create index"
   ]
  },
  {
   "cell_type": "code",
   "execution_count": 17,
   "metadata": {
    "collapsed": true,
    "deletable": true,
    "editable": true
   },
   "outputs": [],
   "source": [
    "index = similarities.MatrixSimilarity(corpus_lsi)\n",
    "index.save('all_cards_lsi.index')"
   ]
  },
  {
   "cell_type": "code",
   "execution_count": 18,
   "metadata": {
    "collapsed": true,
    "deletable": true,
    "editable": true
   },
   "outputs": [],
   "source": [
    "def similarity(card):\n",
    "    vec_bow = dictionary.doc2bow(tokenize(card))\n",
    "    vec_lsi = lsi[tfidf[vec_bow]]\n",
    "    scores = index[vec_lsi]\n",
    "    return sorted(enumerate(scores),\n",
    "            key=itemgetter(1), reverse=True)"
   ]
  },
  {
   "cell_type": "code",
   "execution_count": 19,
   "metadata": {
    "collapsed": false,
    "deletable": true,
    "editable": true
   },
   "outputs": [
    {
     "data": {
      "text/plain": [
       "[(4209, 1.0),\n",
       " (39, 0.99998015),\n",
       " (1905, 0.94413352),\n",
       " (4282, 0.85083342),\n",
       " (9076, 0.8506766),\n",
       " (7761, 0.83938605),\n",
       " (12776, 0.83860302),\n",
       " (8821, 0.81864858),\n",
       " (11430, 0.80684882),\n",
       " (3508, 0.79541689)]"
      ]
     },
     "execution_count": 19,
     "metadata": {},
     "output_type": "execute_result"
    }
   ],
   "source": [
    "similarity(card)[:10]"
   ]
  },
  {
   "cell_type": "code",
   "execution_count": 20,
   "metadata": {
    "collapsed": false,
    "deletable": true,
    "editable": true
   },
   "outputs": [],
   "source": [
    "def get_similar_cards(card_name, N=10):\n",
    "    card = cards[card_name]\n",
    "    similarity_scores = similarity(card)\n",
    "    similar_cards = []\n",
    "    for name_idx, score in similarity_scores:\n",
    "        this_card_name = card_names[name_idx]\n",
    "        if this_card_name != card_name:\n",
    "            this_card = cards[this_card_name]\n",
    "            similar_cards.append((score,\n",
    "                    ' '.join([this_card['name'], this_card.get('manaCost', '')]),\n",
    "                    this_card['text'],\n",
    "                    ))\n",
    "        if len(similar_cards) >= N:\n",
    "            break\n",
    "    return similar_cards\n",
    "        "
   ]
  },
  {
   "cell_type": "markdown",
   "metadata": {
    "deletable": true,
    "editable": true
   },
   "source": [
    "# Query similar cards"
   ]
  },
  {
   "cell_type": "code",
   "execution_count": 21,
   "metadata": {
    "collapsed": false,
    "deletable": true,
    "editable": true
   },
   "outputs": [
    {
     "data": {
      "text/plain": [
       "[(0.87870228,\n",
       "  'Inner Fire {3}{R}',\n",
       "  'Add {R} to your mana pool for each card in your hand.'),\n",
       " (0.84190923,\n",
       "  'Thought Vessel {2}',\n",
       "  'You have no maximum hand size.\\n{T}: Add {C} to your mana pool.'),\n",
       " (0.84190923,\n",
       "  'Reliquary Tower ',\n",
       "  'You have no maximum hand size.\\n{T}: Add {C} to your mana pool.'),\n",
       " (0.83300889,\n",
       "  'Simian Spirit Guide {2}{R}',\n",
       "  'Exile Simian Spirit Guide from your hand: Add {R} to your mana pool.'),\n",
       " (0.80337292,\n",
       "  'Chrome Mox {0}',\n",
       "  \"Imprint — When Chrome Mox enters the battlefield, you may exile a nonartifact, nonland card from your hand.\\n{T}: Add one mana of any of the exiled card's colors to your mana pool.\"),\n",
       " (0.8020587,\n",
       "  'Scavenger Grounds ',\n",
       "  '{T}: Add {C} to your mana pool.\\n{2}, {T}, Sacrifice a Desert: Exile all cards from all graveyards.'),\n",
       " (0.76960075,\n",
       "  'Serum Powder {3}',\n",
       "  '{T}: Add {C} to your mana pool.\\nAny time you could mulligan and Serum Powder is in your hand, you may exile all the cards from your hand, then draw that many cards. (You can do this in addition to taking mulligans.)'),\n",
       " (0.76369047,\n",
       "  'Magnifying Glass {3}',\n",
       "  '{T}: Add {C} to your mana pool.\\n{4}, {T}: Investigate. (Create a colorless Clue artifact token with \"{2}, Sacrifice this artifact: Draw a card.\")'),\n",
       " (0.76201689,\n",
       "  'Fetid Heath ',\n",
       "  '{T}: Add {C} to your mana pool.\\n{W/B}, {T}: Add {W}{W}, {W}{B}, or {B}{B} to your mana pool.'),\n",
       " (0.76201689,\n",
       "  'Cascade Bluffs ',\n",
       "  '{T}: Add {C} to your mana pool.\\n{U/R}, {T}: Add {U}{U}, {U}{R}, or {R}{R} to your mana pool.')]"
      ]
     },
     "execution_count": 21,
     "metadata": {},
     "output_type": "execute_result"
    }
   ],
   "source": [
    "get_similar_cards('Cadaverous Bloom')"
   ]
  },
  {
   "cell_type": "code",
   "execution_count": 22,
   "metadata": {
    "collapsed": false,
    "deletable": true,
    "editable": true
   },
   "outputs": [
    {
     "data": {
      "text/plain": [
       "'Living weapon (When this Equipment enters the battlefield, create a 0/0 black Germ creature token, then attach this to it.)\\nEquipped creature gets +X/+X, where X is the number of creature cards in all graveyards.\\nEquip {2}'"
      ]
     },
     "execution_count": 22,
     "metadata": {},
     "output_type": "execute_result"
    }
   ],
   "source": [
    "cards['Bonehoard']['text']"
   ]
  },
  {
   "cell_type": "code",
   "execution_count": 23,
   "metadata": {
    "collapsed": false,
    "deletable": true,
    "editable": true
   },
   "outputs": [
    {
     "data": {
      "text/plain": [
       "['x',\n",
       " 'live',\n",
       " 'creatur',\n",
       " 'creatur',\n",
       " '+x/+x',\n",
       " 'get',\n",
       " 'number',\n",
       " 'card',\n",
       " 'equip',\n",
       " 'graveyard',\n",
       " 'weapon']"
      ]
     },
     "execution_count": 23,
     "metadata": {},
     "output_type": "execute_result"
    }
   ],
   "source": [
    "tokenize(cards['Bonehoard'])"
   ]
  },
  {
   "cell_type": "markdown",
   "metadata": {
    "deletable": true,
    "editable": true
   },
   "source": [
    "# Model - LDA"
   ]
  },
  {
   "cell_type": "code",
   "execution_count": 24,
   "metadata": {
    "collapsed": true,
    "deletable": true,
    "editable": true
   },
   "outputs": [],
   "source": [
    "lda = models.LdaMulticore(corpus, id2word=dictionary, num_topics=100)\n",
    "corpus_lda = lda[corpus]"
   ]
  },
  {
   "cell_type": "code",
   "execution_count": 25,
   "metadata": {
    "collapsed": false,
    "deletable": true,
    "editable": true
   },
   "outputs": [],
   "source": [
    "index = similarities.MatrixSimilarity(corpus_lda)\n",
    "index.save('all_cards_lda.index')"
   ]
  },
  {
   "cell_type": "code",
   "execution_count": 26,
   "metadata": {
    "collapsed": true,
    "deletable": true,
    "editable": true
   },
   "outputs": [],
   "source": [
    "def similarity_lda(card):\n",
    "    vec_bow = dictionary.doc2bow(tokenize(card))\n",
    "    vec_lda = lda[vec_bow]\n",
    "    scores = index[vec_lda]\n",
    "    return sorted(enumerate(scores),\n",
    "            key=itemgetter(1), reverse=True)"
   ]
  },
  {
   "cell_type": "code",
   "execution_count": 27,
   "metadata": {
    "collapsed": true,
    "deletable": true,
    "editable": true
   },
   "outputs": [],
   "source": [
    "def get_similar_cards_lda(card_name, N=10):\n",
    "    card = cards[card_name]\n",
    "    similarity_scores = similarity_lda(card)\n",
    "    similar_cards = []\n",
    "    for name_idx, score in similarity_scores:\n",
    "        this_card_name = card_names[name_idx]\n",
    "        if this_card_name != card_name:\n",
    "            this_card = cards[this_card_name]\n",
    "            similar_cards.append((score, this_card['name'], this_card.get('text', '')))\n",
    "        if len(similar_cards) >= N:\n",
    "            break\n",
    "    return similar_cards"
   ]
  },
  {
   "cell_type": "code",
   "execution_count": 28,
   "metadata": {
    "collapsed": false,
    "deletable": true,
    "editable": true
   },
   "outputs": [
    {
     "data": {
      "text/plain": [
       "[(0.9734683,\n",
       "  'Sun Titan',\n",
       "  'Vigilance\\nWhenever Sun Titan enters the battlefield or attacks, you may return target permanent card with converted mana cost 3 or less from your graveyard to the battlefield.'),\n",
       " (0.72890788,\n",
       "  'Deceiver Exarch',\n",
       "  'Flash (You may cast this spell any time you could cast an instant.)\\nWhen Deceiver Exarch enters the battlefield, choose one —\\n• Untap target permanent you control.\\n• Tap target permanent an opponent controls.'),\n",
       " (0.72890788,\n",
       "  'Foul Renewal',\n",
       "  'Return target creature card from your graveyard to your hand. Target creature gets -X/-X until end of turn, where X is the toughness of the card returned this way.'),\n",
       " (0.72890788,\n",
       "  'Ingot Chewer',\n",
       "  \"When Ingot Chewer enters the battlefield, destroy target artifact.\\nEvoke {R} (You may cast this spell for its evoke cost. If you do, it's sacrificed when it enters the battlefield.)\"),\n",
       " (0.72890788,\n",
       "  'Cataclysmic Gearhulk',\n",
       "  'Vigilance\\nWhen Cataclysmic Gearhulk enters the battlefield, each player chooses an artifact, a creature, an enchantment, and a planeswalker from among the nonland permanents he or she controls, then sacrifices the rest.'),\n",
       " (0.72890788,\n",
       "  'Goblin Racketeer',\n",
       "  'Whenever Goblin Racketeer attacks, you may goad target creature defending player controls. (Until your next turn, that creature attacks each combat if able and attacks a player other than you if able.)'),\n",
       " (0.72890788,\n",
       "  'Misery Charm',\n",
       "  'Choose one —\\n• Destroy target Cleric.\\n• Return target Cleric card from your graveyard to your hand.\\n• Target player loses 2 life.'),\n",
       " (0.72890788,\n",
       "  'Hymn of Rebirth',\n",
       "  'Put target creature card from a graveyard onto the battlefield under your control.'),\n",
       " (0.72890788,\n",
       "  'Netter en-Dal',\n",
       "  \"{W}, {T}, Discard a card: Target creature can't attack this turn.\"),\n",
       " (0.72890788,\n",
       "  'Altar of the Brood',\n",
       "  'Whenever another permanent enters the battlefield under your control, each opponent puts the top card of his or her library into his or her graveyard.')]"
      ]
     },
     "execution_count": 28,
     "metadata": {},
     "output_type": "execute_result"
    }
   ],
   "source": [
    "get_similar_cards_lda('Fatal Push')"
   ]
  },
  {
   "cell_type": "code",
   "execution_count": 29,
   "metadata": {
    "collapsed": false,
    "deletable": true,
    "editable": true
   },
   "outputs": [
    {
     "data": {
      "text/plain": [
       "['n',\n",
       " 'n',\n",
       " 'instead',\n",
       " 'mana',\n",
       " 'mana',\n",
       " 'target',\n",
       " 'less',\n",
       " 'less',\n",
       " 'destroy',\n",
       " 'destroy',\n",
       " 'convert',\n",
       " 'convert',\n",
       " 'left',\n",
       " 'perman',\n",
       " 'creatur',\n",
       " 'creatur',\n",
       " 'control',\n",
       " 'battlefield',\n",
       " 'revolt',\n",
       " 'cost',\n",
       " 'cost',\n",
       " 'turn']"
      ]
     },
     "execution_count": 29,
     "metadata": {},
     "output_type": "execute_result"
    }
   ],
   "source": [
    "tokenize(cards['Fatal Push'])"
   ]
  },
  {
   "cell_type": "code",
   "execution_count": 30,
   "metadata": {
    "collapsed": false,
    "deletable": true,
    "editable": true
   },
   "outputs": [
    {
     "data": {
      "text/plain": [
       "{'cmc': 1,\n",
       " 'colorIdentity': ['B'],\n",
       " 'colors': ['Black'],\n",
       " 'imageName': 'fatal push',\n",
       " 'layout': 'normal',\n",
       " 'manaCost': '{B}',\n",
       " 'name': 'Fatal Push',\n",
       " 'text': 'Destroy target creature if it has converted mana cost 2 or less.\\nRevolt — Destroy that creature if it has converted mana cost 4 or less instead if a permanent you controlled left the battlefield this turn.',\n",
       " 'type': 'Instant',\n",
       " 'types': ['Instant']}"
      ]
     },
     "execution_count": 30,
     "metadata": {},
     "output_type": "execute_result"
    }
   ],
   "source": [
    "cards['Fatal Push']"
   ]
  },
  {
   "cell_type": "markdown",
   "metadata": {
    "deletable": true,
    "editable": true
   },
   "source": [
    "# Model - HDP"
   ]
  },
  {
   "cell_type": "code",
   "execution_count": 31,
   "metadata": {
    "collapsed": true,
    "deletable": true,
    "editable": true
   },
   "outputs": [],
   "source": [
    "hdp = models.HdpModel(corpus, id2word=dictionary)\n",
    "corpus_hdp = hdp[corpus]"
   ]
  },
  {
   "cell_type": "code",
   "execution_count": 32,
   "metadata": {
    "collapsed": false,
    "deletable": true,
    "editable": true
   },
   "outputs": [],
   "source": [
    "index = similarities.MatrixSimilarity(corpus_hdp)\n",
    "index.save('all_cards_hdp.index')"
   ]
  },
  {
   "cell_type": "code",
   "execution_count": 33,
   "metadata": {
    "collapsed": true,
    "deletable": true,
    "editable": true
   },
   "outputs": [],
   "source": [
    "def similarity_hdp(card):\n",
    "    vec_bow = dictionary.doc2bow(tokenize(card))\n",
    "    vec_hdp = hdp[vec_bow]\n",
    "    scores = index[vec_hdp]\n",
    "    return sorted(enumerate(scores),\n",
    "            key=itemgetter(1), reverse=True)"
   ]
  },
  {
   "cell_type": "code",
   "execution_count": 34,
   "metadata": {
    "collapsed": true,
    "deletable": true,
    "editable": true
   },
   "outputs": [],
   "source": [
    "def get_similar_cards_hdp(card_name, N=10):\n",
    "    card = cards[card_name]\n",
    "    similarity_scores = similarity_hdp(card)\n",
    "    similar_cards = []\n",
    "    for name_idx, score in similarity_scores:\n",
    "        this_card_name = card_names[name_idx]\n",
    "        if this_card_name != card_name:\n",
    "            this_card = cards[this_card_name]\n",
    "            similar_cards.append((score, this_card['name'], this_card.get('text', '')))\n",
    "        if len(similar_cards) >= N:\n",
    "            break\n",
    "    return similar_cards"
   ]
  },
  {
   "cell_type": "code",
   "execution_count": 35,
   "metadata": {
    "collapsed": false,
    "deletable": true,
    "editable": true
   },
   "outputs": [
    {
     "data": {
      "text/plain": [
       "[(1.0,\n",
       "  'Zealot of the God-Pharaoh',\n",
       "  '{4}{R}: Zealot of the God-Pharaoh deals 2 damage to target opponent.'),\n",
       " (1.0,\n",
       "  'Firebrand Archer',\n",
       "  'Whenever you cast a noncreature spell, Firebrand Archer deals 1 damage to each opponent.'),\n",
       " (1.0,\n",
       "  'Sword of Feast and Famine',\n",
       "  'Equipped creature gets +2/+2 and has protection from black and from green.\\nWhenever equipped creature deals combat damage to a player, that player discards a card and you untap all lands you control.\\nEquip {2}'),\n",
       " (1.0,\n",
       "  'Geist of the Lonely Vigil',\n",
       "  \"Defender, flying\\nDelirium — Geist of the Lonely Vigil can attack as though it didn't have defender as long as there are four or more card types among cards in your graveyard.\"),\n",
       " (1.0,\n",
       "  'Poisonbelly Ogre',\n",
       "  'Whenever another creature enters the battlefield, its controller loses 1 life.'),\n",
       " (1.0,\n",
       "  'Ashen Monstrosity',\n",
       "  'Haste\\nAshen Monstrosity attacks each turn if able.'),\n",
       " (1.0,\n",
       "  'Luminesce',\n",
       "  'Prevent all damage that black sources and red sources would deal this turn.'),\n",
       " (1.0,\n",
       "  'Mardu Warshrieker',\n",
       "  'Raid — When Mardu Warshrieker enters the battlefield, if you attacked with a creature this turn, add {R}{W}{B} to your mana pool.'),\n",
       " (1.0,\n",
       "  'Humbler of Mortals',\n",
       "  'Constellation — Whenever Humbler of Mortals or another enchantment enters the battlefield under your control, creatures you control gain trample until end of turn.'),\n",
       " (1.0, 'Goblin Piker', '')]"
      ]
     },
     "execution_count": 35,
     "metadata": {},
     "output_type": "execute_result"
    }
   ],
   "source": [
    "get_similar_cards_hdp('Windfall')"
   ]
  },
  {
   "cell_type": "code",
   "execution_count": 36,
   "metadata": {
    "collapsed": false,
    "deletable": true,
    "editable": true
   },
   "outputs": [
    {
     "data": {
      "text/plain": [
       "[(0,\n",
       "  '0.048*creatur + 0.043*~ + 0.027*card + 0.026*target + 0.019*control + 0.018*turn + 0.016*player + 0.015*battlefield + 0.014*n + 0.013*end'),\n",
       " (1,\n",
       "  '0.012*~ + 0.012*creatur + 0.007*target + 0.007*control + 0.007*turn + 0.005*card + 0.005*counter + 0.004*end + 0.004*whenev + 0.004*+x/+x'),\n",
       " (2,\n",
       "  '0.008*creatur + 0.007*~ + 0.006*either + 0.005*deal + 0.004*target + 0.004*turn + 0.004*whenev + 0.003*brisela + 0.003*unleash + 0.003*card'),\n",
       " (3,\n",
       "  '0.007*creatur + 0.007*card + 0.006*~ + 0.005*target + 0.004*freyalis + 0.004*gain + 0.004*counter + 0.003*chao + 0.003*add + 0.003*player'),\n",
       " (4,\n",
       "  '0.008*~ + 0.007*card + 0.007*creatur + 0.005*mana + 0.005*battlefield + 0.004*librari + 0.004*n + 0.004*pool + 0.004*target + 0.004*put'),\n",
       " (5,\n",
       "  '0.006*creatur + 0.005*~ + 0.005*minor + 0.004*target + 0.004*unspeak + 0.004*away + 0.004*shorter + 0.004*refer + 0.003*card + 0.003*end'),\n",
       " (6,\n",
       "  '0.009*creatur + 0.007*~ + 0.006*turn + 0.005*target + 0.004*card + 0.004*gain + 0.004*brother + 0.004*nonland + 0.003*punctuat + 0.003*support'),\n",
       " (7,\n",
       "  '0.011*creatur + 0.007*~ + 0.005*card + 0.005*turn + 0.004*attack + 0.004*target + 0.004*control + 0.004*battlefield + 0.003*may + 0.003*end'),\n",
       " (8,\n",
       "  \"0.007*creatur + 0.006*wasn't + 0.006*karametra + 0.005*card + 0.005*~ + 0.004*target + 0.004*put + 0.004*islandwalk + 0.003*jace + 0.003*slith\"),\n",
       " (9,\n",
       "  '0.009*creatur + 0.007*~ + 0.005*card + 0.004*player + 0.004*end + 0.004*mana + 0.004*subgam + 0.004*target + 0.004*control + 0.004*karsus'),\n",
       " (10,\n",
       "  '0.008*creatur + 0.006*~ + 0.005*target + 0.005*card + 0.004*third-degree-burn + 0.004*page + 0.004*magic + 0.003*z + 0.003*hand + 0.003*genesi'),\n",
       " (11,\n",
       "  '0.007*creatur + 0.006*~ + 0.006*\"you + 0.005*counter + 0.004*target + 0.003*partner + 0.003*worm + 0.003*n/n + 0.003*+x/+x + 0.003*manticor'),\n",
       " (12,\n",
       "  '0.005*~ + 0.005*creatur + 0.004*turn + 0.004*leav + 0.004*target + 0.004*long + 0.003*assassin + 0.003*dauthi + 0.003*card + 0.003*twelv'),\n",
       " (13,\n",
       "  '0.007*~ + 0.006*creatur + 0.005*drone + 0.004*kick + 0.004*gorgon + 0.004*card + 0.004*enchant + 0.003*crovax + 0.003*target + 0.003*dreadnought'),\n",
       " (14,\n",
       "  '0.006*player + 0.006*creatur + 0.006*~ + 0.004*target + 0.004*battlefield + 0.004*slime + 0.004*card + 0.004*caribou + 0.003*stay + 0.003*tuktuk'),\n",
       " (15,\n",
       "  '0.006*creatur + 0.006*~ + 0.004*bounti + 0.004*may + 0.004*transform + 0.004*crab + 0.004*improvis + 0.004*target + 0.003*genesi + 0.003*equal'),\n",
       " (16,\n",
       "  '0.007*creatur + 0.005*~ + 0.004*zombi + 0.004*card + 0.004*kor + 0.004*zhang + 0.004*block + 0.004*target + 0.004*partner + 0.003*currenc'),\n",
       " (17,\n",
       "  '0.006*creatur + 0.006*~ + 0.004*target + 0.004*infect + 0.004*simultan + 0.004*get + 0.004*card + 0.004*origin + 0.003*vanish + 0.003*instant'),\n",
       " (18,\n",
       "  '0.007*token + 0.006*~ + 0.006*creatur + 0.004*target + 0.004*player + 0.003*whenev + 0.003*power-pl + 0.003*chang + 0.003*counter + 0.003*card'),\n",
       " (19,\n",
       "  '0.008*creatur + 0.007*~ + 0.006*target + 0.005*x + 0.005*get + 0.005*card + 0.004*phoenix + 0.004*cri + 0.004*caus + 0.004*repres')]"
      ]
     },
     "execution_count": 36,
     "metadata": {},
     "output_type": "execute_result"
    }
   ],
   "source": [
    "hdp.print_topics()"
   ]
  },
  {
   "cell_type": "code",
   "execution_count": null,
   "metadata": {
    "collapsed": true,
    "deletable": true,
    "editable": true
   },
   "outputs": [],
   "source": []
  }
 ],
 "metadata": {
  "kernelspec": {
   "display_name": "Python 3",
   "language": "python",
   "name": "python3"
  },
  "language_info": {
   "codemirror_mode": {
    "name": "ipython",
    "version": 3
   },
   "file_extension": ".py",
   "mimetype": "text/x-python",
   "name": "python",
   "nbconvert_exporter": "python",
   "pygments_lexer": "ipython3",
   "version": "3.5.3"
  }
 },
 "nbformat": 4,
 "nbformat_minor": 2
}
